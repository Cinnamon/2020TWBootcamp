{
 "cells": [
  {
   "cell_type": "code",
   "execution_count": 85,
   "metadata": {},
   "outputs": [],
   "source": [
    "import pandas as pd\n",
    "import numpy as np\n",
    "import sklearn\n",
    "import torch\n",
    "import torch.nn as nn\n",
    "import ast\n",
    "import tqdm\n",
    "\n",
    "from transformers import AutoConfig, AutoTokenizer, BertForQuestionAnswering\n",
    "from torch.utils.data import DataLoader, Dataset\n",
    "\n",
    "\n",
    "class SashimiDataset(Dataset):\n",
    "    def __init__(self, data):\n",
    "        super(SashimiDataset, self).__init__()\n",
    "        self.text = data.Text\n",
    "        self.label = data.Label\n",
    "        \n",
    "    def __len__(self):\n",
    "        return self.text.shape[0]*4\n",
    "    \n",
    "    def __getitem__(self, idx):\n",
    "        text = self.text[idx // len(QUESTIONS)]\n",
    "        qs_idx = idx % len(QUESTIONS)\n",
    "        label = self.label[idx // len(QUESTIONS)][qs_idx]\n",
    "        question = QUESTIONS[qs_idx]\n",
    "        \n",
    "        inputs = tokenizer(question, text, padding='max_length', truncation=True, max_length=128, return_tensors='pt')\n",
    "        label = torch.LongTensor(label)\n",
    "        \n",
    "        plus_idx = (inputs['input_ids'] == 102).nonzero()[0,1]\n",
    "        label += plus_idx \n",
    "        \n",
    "        return inputs, label\n",
    "    \n",
    "    \n",
    "config = AutoConfig.from_pretrained(\"deepset/bert-base-cased-squad2\")\n",
    "model = BertForQuestionAnswering.from_pretrained(\"deepset/bert-base-cased-squad2\")\n",
    "tokenizer = AutoTokenizer.from_pretrained(\"deepset/bert-base-cased-squad2\", use_fast=True)\n",
    "    "
   ]
  },
  {
   "cell_type": "code",
   "execution_count": 86,
   "metadata": {},
   "outputs": [
    {
     "data": {
      "text/html": [
       "<div>\n",
       "<style scoped>\n",
       "    .dataframe tbody tr th:only-of-type {\n",
       "        vertical-align: middle;\n",
       "    }\n",
       "\n",
       "    .dataframe tbody tr th {\n",
       "        vertical-align: top;\n",
       "    }\n",
       "\n",
       "    .dataframe thead th {\n",
       "        text-align: right;\n",
       "    }\n",
       "</style>\n",
       "<table border=\"1\" class=\"dataframe\">\n",
       "  <thead>\n",
       "    <tr style=\"text-align: right;\">\n",
       "      <th></th>\n",
       "      <th>Text</th>\n",
       "      <th>Label</th>\n",
       "    </tr>\n",
       "  </thead>\n",
       "  <tbody>\n",
       "    <tr>\n",
       "      <th>0</th>\n",
       "      <td>Hey. Are you free on Tuesday? Yes. Do you want...</td>\n",
       "      <td>[[15, 18], [7, 7], [0, 0], [29, 31]]</td>\n",
       "    </tr>\n",
       "    <tr>\n",
       "      <th>1</th>\n",
       "      <td>Hey. Are you free on Friday? Sorry, I have pla...</td>\n",
       "      <td>[[0, 0], [0, 0], [0, 0], [0, 0]]</td>\n",
       "    </tr>\n",
       "    <tr>\n",
       "      <th>2</th>\n",
       "      <td>Sup! Sup. Would you want to go rafting on Satu...</td>\n",
       "      <td>[[11, 14], [16, 16], [29, 30], [41, 43]]</td>\n",
       "    </tr>\n",
       "    <tr>\n",
       "      <th>3</th>\n",
       "      <td>Yo, what's up? Nothing much. Let's watch a mov...</td>\n",
       "      <td>[[14, 16], [18, 18], [42, 43], [65, 67]]</td>\n",
       "    </tr>\n",
       "    <tr>\n",
       "      <th>4</th>\n",
       "      <td>Yo, what's up? Nothing much. Do you want to gr...</td>\n",
       "      <td>[[15, 16], [18, 18], [26, 27], [35, 36]]</td>\n",
       "    </tr>\n",
       "  </tbody>\n",
       "</table>\n",
       "</div>"
      ],
      "text/plain": [
       "                                                Text  \\\n",
       "0  Hey. Are you free on Tuesday? Yes. Do you want...   \n",
       "1  Hey. Are you free on Friday? Sorry, I have pla...   \n",
       "2  Sup! Sup. Would you want to go rafting on Satu...   \n",
       "3  Yo, what's up? Nothing much. Let's watch a mov...   \n",
       "4  Yo, what's up? Nothing much. Do you want to gr...   \n",
       "\n",
       "                                      Label  \n",
       "0      [[15, 18], [7, 7], [0, 0], [29, 31]]  \n",
       "1          [[0, 0], [0, 0], [0, 0], [0, 0]]  \n",
       "2  [[11, 14], [16, 16], [29, 30], [41, 43]]  \n",
       "3  [[14, 16], [18, 18], [42, 43], [65, 67]]  \n",
       "4  [[15, 16], [18, 18], [26, 27], [35, 36]]  "
      ]
     },
     "execution_count": 86,
     "metadata": {},
     "output_type": "execute_result"
    }
   ],
   "source": [
    "QUESTIONS = [\n",
    "    'What activity?',\n",
    "    'What date?',\n",
    "    'What time?',\n",
    "    'Where to go?'\n",
    "]\n",
    "\n",
    "data = pd.read_csv('./data/updated3500s.csv', sep='\\t')\n",
    "#data['Text'] = [ast.literal_eval(data.Text[i])[0] for i in range(data.shape[0])]\n",
    "data['Label'] = [ast.literal_eval(data.Label[i]) for i in range(data.shape[0])]\n",
    "    \n",
    "dataset = SashimiDataset(data)\n",
    "dataloader = DataLoader(dataset, batch_size=4)\n",
    "\n",
    "data.head()"
   ]
  },
  {
   "cell_type": "code",
   "execution_count": 59,
   "metadata": {},
   "outputs": [
    {
     "data": {
      "application/vnd.jupyter.widget-view+json": {
       "model_id": "acfccd74c6bb48b7995ed11be4b126c4",
       "version_major": 2,
       "version_minor": 0
      },
      "text/plain": [
       "HBox(children=(FloatProgress(value=0.0, max=2000.0), HTML(value='')))"
      ]
     },
     "metadata": {},
     "output_type": "display_data"
    },
    {
     "name": "stdout",
     "output_type": "stream",
     "text": [
      "\n",
      "Train loss 0.008059692569077015\n"
     ]
    },
    {
     "data": {
      "application/vnd.jupyter.widget-view+json": {
       "model_id": "9c14823bb9424b41845a4e4ac36fc1ba",
       "version_major": 2,
       "version_minor": 0
      },
      "text/plain": [
       "HBox(children=(FloatProgress(value=0.0, max=2000.0), HTML(value='')))"
      ]
     },
     "metadata": {},
     "output_type": "display_data"
    },
    {
     "name": "stdout",
     "output_type": "stream",
     "text": [
      "\n",
      "Train loss 0.1382034569978714\n"
     ]
    },
    {
     "data": {
      "application/vnd.jupyter.widget-view+json": {
       "model_id": "562bbf164a5048acb85bd8a146265f17",
       "version_major": 2,
       "version_minor": 0
      },
      "text/plain": [
       "HBox(children=(FloatProgress(value=0.0, max=2000.0), HTML(value='')))"
      ]
     },
     "metadata": {},
     "output_type": "display_data"
    },
    {
     "name": "stdout",
     "output_type": "stream",
     "text": [
      "\n",
      "Train loss 0.004682702012360096\n"
     ]
    }
   ],
   "source": [
    "loss_fn = nn.CrossEntropyLoss()\n",
    "optimizer = torch.optim.AdamW(model.parameters(), 2e-5)\n",
    "\n",
    "for epoch in range(3):\n",
    "    total_loss = 0\n",
    "    \n",
    "    for inputs, label in tqdm.notebook.tqdm(dataloader):\n",
    "        # Reform the inputs\n",
    "        for k in inputs.keys():\n",
    "            inputs[k] = inputs[k].squeeze(1)\n",
    "\n",
    "        optimizer.zero_grad()\n",
    "        outputs = model(**inputs)\n",
    "        predict = torch.stack(outputs, -1)\n",
    "\n",
    "        loss = loss_fn(predict, label)\n",
    "        loss.backward()\n",
    "        optimizer.step()\n",
    "        \n",
    "        total_loss += loss.item()\n",
    "        \n",
    "        break\n",
    "        \n",
    "    print(f'Train loss {total_loss}')"
   ]
  },
  {
   "cell_type": "code",
   "execution_count": 58,
   "metadata": {},
   "outputs": [
    {
     "data": {
      "text/plain": [
       "tensor(0.0105, grad_fn=<NllLoss2DBackward>)"
      ]
     },
     "execution_count": 58,
     "metadata": {},
     "output_type": "execute_result"
    }
   ],
   "source": [
    "loss_fn(torch.stack([start, end], -1), label)"
   ]
  },
  {
   "cell_type": "code",
   "execution_count": 53,
   "metadata": {},
   "outputs": [
    {
     "data": {
      "text/plain": [
       "torch.Size([4, 2])"
      ]
     },
     "execution_count": 53,
     "metadata": {},
     "output_type": "execute_result"
    }
   ],
   "source": [
    "torch.stack([start, start], -1).shape"
   ]
  },
  {
   "cell_type": "code",
   "execution_count": 21,
   "metadata": {},
   "outputs": [
    {
     "name": "stdout",
     "output_type": "stream",
     "text": [
      "What activity?\t0\t18\t[CLS] What activity? [SEP] Sup! Sup. Would you want to go to a party\n",
      "What date?\t0\t0\t[CLS]\n",
      "What time?\t58\t59\t7 am\n",
      "Where to go?\t0\t0\t[CLS]\n"
     ]
    }
   ],
   "source": [
    "TEXT = \"Sup! Sup. Let's see a play on Friday? Ok. Where should we meet? I don't know. How about the theme park? Sure! When? 9 pm? Sorry, I can't. How about 11 pm? Sure. See you then!\"\n",
    "\n",
    "for qs in QUESTIONS:\n",
    "    inputs = tokenizer(qs, data.Text[1000], max_length=128, padding='max_length', truncation=True, return_tensors='pt')\n",
    "    with torch.no_grad():\n",
    "        outputs = model(**inputs)\n",
    "        start, end = torch.argmax(outputs[0]), torch.argmax(outputs[1])\n",
    "        print(f\"{qs}\\t{start}\\t{end}\\t{tokenizer.decode(inputs['input_ids'][0,start:end+1].tolist())}\\t{tokenizer.decode(inputs['input_ids'][0,start:end+1].tolist())}\")\n",
    "    "
   ]
  },
  {
   "cell_type": "code",
   "execution_count": 88,
   "metadata": {},
   "outputs": [
    {
     "data": {
      "application/vnd.jupyter.widget-view+json": {
       "model_id": "feace2346b0c4526a506666ba18ef677",
       "version_major": 2,
       "version_minor": 0
      },
      "text/plain": [
       "HBox(children=(FloatProgress(value=1.0, bar_style='info', max=1.0), HTML(value='')))"
      ]
     },
     "metadata": {},
     "output_type": "display_data"
    },
    {
     "name": "stdout",
     "output_type": "stream",
     "text": [
      "True:    [[19, 22], [11, 11], [4, 4], [34, 36]]\n",
      "Predict: [[20, 22], [0, 0], [11, 11], [21, 36]]\n",
      "tensor([19, 22]) go rafting \n",
      "\n",
      "tensor([11, 11]) Tuesday \n",
      "\n",
      "tensor([4, 4]) [SEP] \n",
      "\n",
      "tensor([34, 36]) theme park? \n",
      "\n",
      "True:    [[4, 4], [4, 4], [4, 4], [5, 5]]\n",
      "Predict: [[0, 0], [23, 23], [23, 23], [24, 24]]\n",
      "tensor([4, 4]) [SEP] \n",
      "\n",
      "tensor([4, 4]) [SEP] \n",
      "\n",
      "tensor([4, 4]) [SEP] \n",
      "\n",
      "tensor([5, 5]) Hey \n",
      "\n",
      "True:    [[15, 18], [20, 20], [33, 34], [46, 48]]\n",
      "Predict: [[16, 18], [20, 20], [20, 20], [21, 21]]\n",
      "tensor([15, 18]) go rafting \n",
      "\n",
      "tensor([20, 20]) Saturday \n",
      "\n",
      "tensor([33, 34]) 7 pm \n",
      "\n",
      "tensor([46, 48]) ##nyi? \n",
      "\n",
      "\n"
     ]
    }
   ],
   "source": [
    "for idx, (inputs, label) in tqdm.notebook.tqdm(enumerate(dataloader)):\n",
    "    for k in inputs.keys():\n",
    "        inputs[k] = inputs[k].squeeze(1)\n",
    "    outputs = model(**inputs)\n",
    "    start, end = torch.argmax(outputs[0], -1), torch.argmax(outputs[1], -1)\n",
    "    print(f\"True:    {label.tolist()}\\nPredict: {torch.stack((start, end)).T.tolist()}\")\n",
    "    for lb in label:\n",
    "        print(lb, tokenizer.decode(inputs['input_ids'][0, lb[0]:lb[1]+1].tolist()), '\\n')\n",
    "    if idx == 2:\n",
    "        break"
   ]
  },
  {
   "cell_type": "code",
   "execution_count": 83,
   "metadata": {},
   "outputs": [
    {
     "data": {
      "text/html": [
       "<div>\n",
       "<style scoped>\n",
       "    .dataframe tbody tr th:only-of-type {\n",
       "        vertical-align: middle;\n",
       "    }\n",
       "\n",
       "    .dataframe tbody tr th {\n",
       "        vertical-align: top;\n",
       "    }\n",
       "\n",
       "    .dataframe thead th {\n",
       "        text-align: right;\n",
       "    }\n",
       "</style>\n",
       "<table border=\"1\" class=\"dataframe\">\n",
       "  <thead>\n",
       "    <tr style=\"text-align: right;\">\n",
       "      <th></th>\n",
       "      <th>Text</th>\n",
       "      <th>Label</th>\n",
       "    </tr>\n",
       "  </thead>\n",
       "  <tbody>\n",
       "    <tr>\n",
       "      <th>0</th>\n",
       "      <td>Hey. Are you free on Tuesday? Yes. Do you want...</td>\n",
       "      <td>[[15, 18], [7, 7], [0, 0], [29, 31]]</td>\n",
       "    </tr>\n",
       "    <tr>\n",
       "      <th>1</th>\n",
       "      <td>Hey. Are you free on Friday? Sorry, I have pla...</td>\n",
       "      <td>[[0, 0], [0, 0], [0, 0], [0, 0]]</td>\n",
       "    </tr>\n",
       "    <tr>\n",
       "      <th>2</th>\n",
       "      <td>Sup! Sup. Would you want to go rafting on Satu...</td>\n",
       "      <td>[[11, 14], [16, 16], [29, 30], [41, 43]]</td>\n",
       "    </tr>\n",
       "    <tr>\n",
       "      <th>3</th>\n",
       "      <td>Yo, what's up? Nothing much. Let's watch a mov...</td>\n",
       "      <td>[[14, 16], [18, 18], [42, 43], [65, 67]]</td>\n",
       "    </tr>\n",
       "    <tr>\n",
       "      <th>4</th>\n",
       "      <td>Yo, what's up? Nothing much. Do you want to gr...</td>\n",
       "      <td>[[15, 16], [18, 18], [26, 27], [35, 36]]</td>\n",
       "    </tr>\n",
       "    <tr>\n",
       "      <th>...</th>\n",
       "      <td>...</td>\n",
       "      <td>...</td>\n",
       "    </tr>\n",
       "    <tr>\n",
       "      <th>3495</th>\n",
       "      <td>Hey! Let's grab coffee on Tuesday? OK! Where s...</td>\n",
       "      <td>[[6, 7], [9, 9], [47, 48], [20, 22]]</td>\n",
       "    </tr>\n",
       "    <tr>\n",
       "      <th>3496</th>\n",
       "      <td>Yo, what's up? Nothing much. Do you want to gr...</td>\n",
       "      <td>[[15, 16], [18, 18], [29, 30], [41, 43]]</td>\n",
       "    </tr>\n",
       "    <tr>\n",
       "      <th>3497</th>\n",
       "      <td>Sup! Sup. Would you want to bake today? Ok. Wh...</td>\n",
       "      <td>[[11, 12], [13, 13], [36, 37], [54, 55]]</td>\n",
       "    </tr>\n",
       "    <tr>\n",
       "      <th>3498</th>\n",
       "      <td>Sup! Sup. Would you want to see a concert on W...</td>\n",
       "      <td>[[11, 13], [15, 15], [41, 42], [26, 28]]</td>\n",
       "    </tr>\n",
       "    <tr>\n",
       "      <th>3499</th>\n",
       "      <td>Yo, what's up? Nothing much. Let's watch a mov...</td>\n",
       "      <td>[[14, 16], [18, 18], [46, 47], [31, 32]]</td>\n",
       "    </tr>\n",
       "  </tbody>\n",
       "</table>\n",
       "<p>3500 rows × 2 columns</p>\n",
       "</div>"
      ],
      "text/plain": [
       "                                                   Text  \\\n",
       "0     Hey. Are you free on Tuesday? Yes. Do you want...   \n",
       "1     Hey. Are you free on Friday? Sorry, I have pla...   \n",
       "2     Sup! Sup. Would you want to go rafting on Satu...   \n",
       "3     Yo, what's up? Nothing much. Let's watch a mov...   \n",
       "4     Yo, what's up? Nothing much. Do you want to gr...   \n",
       "...                                                 ...   \n",
       "3495  Hey! Let's grab coffee on Tuesday? OK! Where s...   \n",
       "3496  Yo, what's up? Nothing much. Do you want to gr...   \n",
       "3497  Sup! Sup. Would you want to bake today? Ok. Wh...   \n",
       "3498  Sup! Sup. Would you want to see a concert on W...   \n",
       "3499  Yo, what's up? Nothing much. Let's watch a mov...   \n",
       "\n",
       "                                         Label  \n",
       "0         [[15, 18], [7, 7], [0, 0], [29, 31]]  \n",
       "1             [[0, 0], [0, 0], [0, 0], [0, 0]]  \n",
       "2     [[11, 14], [16, 16], [29, 30], [41, 43]]  \n",
       "3     [[14, 16], [18, 18], [42, 43], [65, 67]]  \n",
       "4     [[15, 16], [18, 18], [26, 27], [35, 36]]  \n",
       "...                                        ...  \n",
       "3495      [[6, 7], [9, 9], [47, 48], [20, 22]]  \n",
       "3496  [[15, 16], [18, 18], [29, 30], [41, 43]]  \n",
       "3497  [[11, 12], [13, 13], [36, 37], [54, 55]]  \n",
       "3498  [[11, 13], [15, 15], [41, 42], [26, 28]]  \n",
       "3499  [[14, 16], [18, 18], [46, 47], [31, 32]]  \n",
       "\n",
       "[3500 rows x 2 columns]"
      ]
     },
     "execution_count": 83,
     "metadata": {},
     "output_type": "execute_result"
    }
   ],
   "source": [
    "data"
   ]
  },
  {
   "cell_type": "code",
   "execution_count": 1,
   "metadata": {},
   "outputs": [
    {
     "name": "stderr",
     "output_type": "stream",
     "text": [
      "  0%|                                                                                         | 0/8000 [00:00<?, ?it/s]"
     ]
    },
    {
     "name": "stdout",
     "output_type": "stream",
     "text": [
      "tensor([10, 12])\n",
      "tensor(4) tensor([15, 17])\n"
     ]
    },
    {
     "name": "stderr",
     "output_type": "stream",
     "text": [
      "  0%|                                                                                         | 0/8000 [00:01<?, ?it/s]\n"
     ]
    }
   ],
   "source": [
    "import pandas as pd\n",
    "import numpy as np\n",
    "import sklearn\n",
    "import torch\n",
    "import torch.nn as nn\n",
    "import ast\n",
    "import tqdm\n",
    "\n",
    "from transformers import AutoConfig, AutoTokenizer, BertForQuestionAnswering\n",
    "from torch.utils.data import DataLoader, Dataset\n",
    "\n",
    "\n",
    "class SashimiDataset(Dataset):\n",
    "    def __init__(self, data):\n",
    "        super(SashimiDataset, self).__init__()\n",
    "        self.text = data.Text\n",
    "        self.label = data.Label\n",
    "        \n",
    "    def __len__(self):\n",
    "        return self.text.shape[0]*4\n",
    "    \n",
    "    def __getitem__(self, idx):\n",
    "        text = self.text[idx // len(QUESTIONS)]\n",
    "        qs_idx = idx % len(QUESTIONS)\n",
    "        label = self.label[idx // len(QUESTIONS)][qs_idx]\n",
    "        question = QUESTIONS[qs_idx]\n",
    "        \n",
    "        inputs = tokenizer(question, text, padding='max_length', truncation=True, max_length=128, return_tensors='pt')\n",
    "        label = torch.LongTensor(label)\n",
    "        \n",
    "        print(label)\n",
    "        \n",
    "        plus_idx = (inputs['input_ids'] == 102).nonzero()[0,1]\n",
    "        label += plus_idx + 1\n",
    "        \n",
    "        print(plus_idx, label)\n",
    "        \n",
    "        return inputs, label\n",
    "        \n",
    "        \n",
    "def get_data(path, sep=',', index_col=None):\n",
    "    data = pd.read_csv(path, sep=sep, index_col=index_col)\n",
    "    data['Text'] = [ast.literal_eval(data.Text[i])[0] for i in range(data.shape[0])]\n",
    "    data['Label'] = [ast.literal_eval(data.Label[i]) for i in range(data.shape[0])]\n",
    "    return data\n",
    "\n",
    "if __name__ == '__main__':\n",
    "    \n",
    "    config = AutoConfig.from_pretrained(\"deepset/bert-base-cased-squad2\")\n",
    "    model = BertForQuestionAnswering.from_pretrained(\"deepset/bert-base-cased-squad2\")\n",
    "    tokenizer = AutoTokenizer.from_pretrained(\"deepset/bert-base-cased-squad2\", use_fast=True)\n",
    "    \n",
    "    QUESTIONS = [\n",
    "        'What activity?',\n",
    "        'What date?',\n",
    "        'What time?',\n",
    "        'Where to go?'\n",
    "    ]\n",
    "\n",
    "    data = get_data('./data/training_data.csv', sep='\\t')\n",
    "    dataset = SashimiDataset(data)\n",
    "    dataloader = DataLoader(dataset, batch_size=1)\n",
    "    \n",
    "    loss_fn = nn.CrossEntropyLoss()\n",
    "    optimizer = torch.optim.AdamW(model.parameters(), 2e-5)\n",
    "    \n",
    "    model.train()\n",
    "    for epoch in range(3):\n",
    "        total_loss = 0\n",
    "        \n",
    "        for inputs, label in tqdm.tqdm(dataloader):\n",
    "            # Reform the inputs\n",
    "            for k in inputs.keys():\n",
    "                inputs[k] = inputs[k].squeeze(1)\n",
    "\n",
    "            optimizer.zero_grad()\n",
    "            outputs = model(**inputs)\n",
    "            start, end = outputs[0], outputs[1]\n",
    "            label = label\n",
    "\n",
    "            loss = loss_fn(start, label[:,0]) + loss_fn(end, label[:,1])\n",
    "            loss.backward()\n",
    "            optimizer.step()\n",
    "            \n",
    "            total_loss += loss.item()\n",
    "            \n",
    "            break\n",
    "            \n",
    "        break\n",
    "            \n",
    "        print(f'Train loss {total_loss}')\n",
    "        \n",
    "        \n"
   ]
  },
  {
   "cell_type": "code",
   "execution_count": 7,
   "metadata": {},
   "outputs": [
    {
     "name": "stdout",
     "output_type": "stream",
     "text": [
      "15\t18\ta play on Friday\n"
     ]
    }
   ],
   "source": [
    "start, end = torch.argmax(outputs[0]), torch.argmax(outputs[1])\n",
    "print(f\"{start}\\t{end}\\t{tokenizer.decode(inputs['input_ids'][0,start:end+1].tolist())}\")"
   ]
  },
  {
   "cell_type": "code",
   "execution_count": 20,
   "metadata": {},
   "outputs": [
    {
     "data": {
      "text/plain": [
       "\"Sup! Sup. Would you want to go to a party tomorrow? Sure. Where should we meet? I don't know. How about the Japanese place? Great. When? You free 4 am? Sorry, I can't. How about 7 am? Ok. See you then!\""
      ]
     },
     "execution_count": 20,
     "metadata": {},
     "output_type": "execute_result"
    }
   ],
   "source": [
    "data['Text'][1000]"
   ]
  }
 ],
 "metadata": {
  "kernelspec": {
   "display_name": "Python 3",
   "language": "python",
   "name": "python3"
  },
  "language_info": {
   "codemirror_mode": {
    "name": "ipython",
    "version": 3
   },
   "file_extension": ".py",
   "mimetype": "text/x-python",
   "name": "python",
   "nbconvert_exporter": "python",
   "pygments_lexer": "ipython3",
   "version": "3.7.7"
  }
 },
 "nbformat": 4,
 "nbformat_minor": 4
}
